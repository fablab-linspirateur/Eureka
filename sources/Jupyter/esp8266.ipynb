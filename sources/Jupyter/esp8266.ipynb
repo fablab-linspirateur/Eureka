{
 "cells": [
  {
   "cell_type": "code",
   "execution_count": 1,
   "metadata": {},
   "outputs": [
    {
     "name": "stdout",
     "output_type": "stream",
     "text": [
      "\u001b[31mNo serial connected\n",
      "\u001b[0m  %serialconnect to connect\n",
      "  %esptool to flash the device\n",
      "  %lsmagic to list commands"
     ]
    }
   ],
   "source": [
    "%lsusb"
   ]
  },
  {
   "cell_type": "code",
   "execution_count": 1,
   "metadata": {},
   "outputs": [
    {
     "name": "stdout",
     "output_type": "stream",
     "text": [
      "\u001b[34mConnecting to --port=/dev/ttyUSB0 --baud=115200 \u001b[0m\n",
      "\u001b[34mReady.\n",
      "\u001b[0m"
     ]
    }
   ],
   "source": [
    "%serialconnect to --port=/dev/ttyUSB0 --baud=115200"
   ]
  },
  {
   "cell_type": "code",
   "execution_count": null,
   "metadata": {},
   "outputs": [],
   "source": [
    "%serialconnect to --port=/dev/ttyUSB1 --baud=115200"
   ]
  },
  {
   "cell_type": "markdown",
   "metadata": {},
   "source": [
    "à utiliser pour initialiser la carte esp8266 : \n",
    "\n",
    "import network\n",
    "\n",
    "import upip\n",
    "\n",
    "sta_if = network.WLAN(network.STA_IF)\n",
    "\n",
    "sta_if.active(True)\n",
    "\n",
    "sta_if.connect(\"Wifi SSID\", \"Wifi password\")\n",
    "\n",
    "upip.install('micropython-umqtt.simple')"
   ]
  },
  {
   "cell_type": "code",
   "execution_count": 2,
   "metadata": {},
   "outputs": [],
   "source": [
    "import machine\n",
    "import neopixel\n",
    "import utime"
   ]
  },
  {
   "cell_type": "markdown",
   "metadata": {},
   "source": [
    "# Connection au réseau wifi"
   ]
  },
  {
   "cell_type": "code",
   "execution_count": 6,
   "metadata": {},
   "outputs": [],
   "source": [
    "import network\n",
    "sta_if = network.WLAN(network.STA_IF)\n",
    "sta_if.active(True)\n",
    "sta_if.ifconfig()\n",
    "sta_if.connect(\"Fablab-inspirateur\",\"Choiseul.67220\")"
   ]
  },
  {
   "cell_type": "code",
   "execution_count": 10,
   "metadata": {},
   "outputs": [],
   "source": [
    "import upip"
   ]
  },
  {
   "cell_type": "code",
   "execution_count": 11,
   "metadata": {},
   "outputs": [
    {
     "name": "stdout",
     "output_type": "stream",
     "text": [
      "Installing to: /lib/\n",
      "Warning: micropython.org SSL certificate is not validated\n",
      "Installing micropython-umqtt.robust 1.0.1 from https://micropython.org/pi/umqtt.robust/umqtt.robust-1.0.1.tar.gz\n",
      "."
     ]
    }
   ],
   "source": [
    "upip.install(\"micropython-umqtt.robust\")"
   ]
  },
  {
   "cell_type": "markdown",
   "metadata": {},
   "source": [
    "# Test des Neopixels ESP826\n",
    "\n",
    "\n",
    "utilisation de la pin2\n"
   ]
  },
  {
   "cell_type": "markdown",
   "metadata": {},
   "source": [
    "### description d'une position\n",
    "- ident : topic passé lors de la publication du sequenceur. C'est la cle du dictionnaire\n",
    "- couleur initiale : #000000 pour effacer \n",
    "- table de position : position de départ et de fin dans le bandeau de neopixel\n",
    "\n",
    "{b\"564990\":{0x000000:[0,10]}}\n",
    "\n"
   ]
  },
  {
   "cell_type": "code",
   "execution_count": 3,
   "metadata": {},
   "outputs": [],
   "source": [
    "nombre_leds=150\n",
    "Leds=neopixel.NeoPixel(machine.Pin(2),nombre_leds)\n",
    "couleurs={b\"bleu\":(0,0,100),b\"vert\":(0,0,100),b\"blanc\":(100,100,100),b\"fin\":(0,0,0)}\n",
    "Idents=[b\"564990\",b\"559849\",b\"566970\",\n",
    "           b\"419743\",b\"551776\",b\"563582\",\n",
    "           b\"567368\",b\"419607\",b\"567367\",\n",
    "           b\"439893\",b\"805788\",b\"569558\",\n",
    "           b\"559992\",b\"418991\",b\"557031\"]\n",
    "\n",
    "    \n",
    "EnCours=[None]*nombre_leds\n",
    "def adapter(zone):\n",
    "    \n",
    "    pass\n",
    "\n",
    "def calculerEmplacement(recherche):\n",
    "    tailleDunePosition=10\n",
    "    debut=(Idents.index(recherche)*tailleDunePosition)\n",
    "    a_piloter = [i for i in range(debut,debut+tailleDunePosition)]\n",
    "    return a_piloter\n",
    "\n",
    "def effacer(couleur):\n",
    "    for i in range(nombre_leds):\n",
    "        Leds[i]=couleurs[b\"fin\"]\n",
    "    Leds.write()\n",
    "    \n",
    "def piloter(recherche=b\"\",couleur=b\"blanc\"):\n",
    "    \n",
    "    if recherche == b\"fin\":\n",
    "        effacer()\n",
    "        return\n",
    "    if ( recherche not in Idents):\n",
    "        return\n",
    "\n",
    "    for i in calculerEmplacement(recherche):\n",
    "        Leds[i]=couleurs[couleur]\n",
    "    Leds.write()"
   ]
  },
  {
   "cell_type": "code",
   "execution_count": 5,
   "metadata": {},
   "outputs": [],
   "source": [
    "for id in Idents:\n",
    "    piloter(id,b\"bleu\")\n"
   ]
  },
  {
   "cell_type": "code",
   "execution_count": 6,
   "metadata": {},
   "outputs": [
    {
     "name": "stdout",
     "output_type": "stream",
     "text": [
      "[30, 31, 32, 33, 34, 35, 36, 37, 38, 39]\n"
     ]
    }
   ],
   "source": [
    "print(calculerEmplacement(b\"419743\"))\n"
   ]
  },
  {
   "cell_type": "code",
   "execution_count": 7,
   "metadata": {},
   "outputs": [],
   "source": [
    "piloter(b\"559849\")"
   ]
  },
  {
   "cell_type": "code",
   "execution_count": 8,
   "metadata": {},
   "outputs": [],
   "source": [
    "piloter(b\"419743\")"
   ]
  },
  {
   "cell_type": "code",
   "execution_count": 9,
   "metadata": {},
   "outputs": [],
   "source": [
    "piloter(b\"419743\")"
   ]
  },
  {
   "cell_type": "code",
   "execution_count": 10,
   "metadata": {},
   "outputs": [],
   "source": [
    "piloter(b\"419743\",b\"fin\")"
   ]
  },
  {
   "cell_type": "code",
   "execution_count": 11,
   "metadata": {},
   "outputs": [
    {
     "name": "stderr",
     "output_type": "stream",
     "text": [
      "Traceback (most recent call last):\n",
      "  File \"<stdin>\", line 1, in <module>\n",
      "TypeError: function takes 1 positional arguments but 0 were given\n"
     ]
    }
   ],
   "source": [
    "effacer()"
   ]
  },
  {
   "cell_type": "markdown",
   "metadata": {},
   "source": [
    "## Connexion à la raspberry"
   ]
  },
  {
   "cell_type": "code",
   "execution_count": 9,
   "metadata": {},
   "outputs": [
    {
     "name": "stdout",
     "output_type": "stream",
     "text": [
      "[]\n"
     ]
    }
   ],
   "source": [
    "print(sta_if.scan())"
   ]
  },
  {
   "cell_type": "code",
   "execution_count": 36,
   "metadata": {},
   "outputs": [],
   "source": [
    "sta_if.connect(\"raspi-poste1\",\"Burkert67\")"
   ]
  },
  {
   "cell_type": "code",
   "execution_count": 37,
   "metadata": {},
   "outputs": [],
   "source": [
    "sta_if.ifconfig()"
   ]
  },
  {
   "cell_type": "markdown",
   "metadata": {},
   "source": [
    "# Client MQTT\n",
    "Nom de l'étagère , addresse du broker mqtt"
   ]
  },
  {
   "cell_type": "code",
   "execution_count": 15,
   "metadata": {},
   "outputs": [],
   "source": [
    "from umqtt.robust import MQTTClient"
   ]
  },
  {
   "cell_type": "code",
   "execution_count": 16,
   "metadata": {},
   "outputs": [
    {
     "name": "stdout",
     "output_type": "stream",
     "text": [
      "('192.168.1.2', 1883)\n"
     ]
    }
   ],
   "source": [
    "NomEtagere = 'rayonnage_01'\n",
    "AdresseBroker = '192.168.1.2'\n",
    "client = MQTTClient(NomEtagere,AdresseBroker)\n",
    "client.connect()"
   ]
  },
  {
   "cell_type": "code",
   "execution_count": 17,
   "metadata": {},
   "outputs": [],
   "source": [
    "def sub_cb(topic,payload):\n",
    "    piloter(topic,payload)\n"
   ]
  },
  {
   "cell_type": "code",
   "execution_count": 18,
   "metadata": {},
   "outputs": [],
   "source": [
    "client.set_callback(sub_cb)"
   ]
  },
  {
   "cell_type": "code",
   "execution_count": 19,
   "metadata": {},
   "outputs": [],
   "source": [
    "for i in Idents:\n",
    "    client.subscribe(i)\n",
    "client.subscribe(b\"effacer\")"
   ]
  },
  {
   "cell_type": "code",
   "execution_count": 20,
   "metadata": {},
   "outputs": [],
   "source": [
    "client.publish(\"rayonnage_01\",\"ok\")"
   ]
  },
  {
   "cell_type": "code",
   "execution_count": 21,
   "metadata": {},
   "outputs": [
    {
     "name": "stdout",
     "output_type": "stream",
     "text": [
      "..........................................................................................................................................................................................................................................................................................................................................................................................................................................................................................................................................................................................................................................................................................................................................................................................................................................................................................................................................................................................................................................................................................................................................................................................................................................................\u001b[34m\n",
      "\n",
      "*** Sending Ctrl-C\n",
      "\n",
      "\u001b[0m"
     ]
    },
    {
     "name": "stderr",
     "output_type": "stream",
     "text": [
      "Traceback (most recent call last):\n",
      "  File \"<stdin>\", line 2, in <module>\n",
      "  File \"umqtt/simple.py\", line 205, in check_msg\n",
      "  File \"umqtt/robust.py\", line 40, in wait_msg\n",
      "  File \"umqtt/simple.py\", line 171, in wait_msg\n",
      "KeyboardInterrupt: \n"
     ]
    }
   ],
   "source": [
    "while 1 :\n",
    "    client.check_msg()"
   ]
  },
  {
   "cell_type": "markdown",
   "metadata": {},
   "source": [
    "# Algo barre de leds\n",
    "\n"
   ]
  },
  {
   "cell_type": "code",
   "execution_count": null,
   "metadata": {},
   "outputs": [],
   "source": []
  }
 ],
 "metadata": {
  "kernelspec": {
   "display_name": "MicroPython - USB",
   "language": "micropython",
   "name": "micropython"
  },
  "language_info": {
   "codemirror_mode": "python",
   "file_extension": ".py",
   "mimetype": "text/python",
   "name": "micropython"
  }
 },
 "nbformat": 4,
 "nbformat_minor": 4
}
