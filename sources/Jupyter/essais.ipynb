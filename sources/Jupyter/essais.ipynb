{
 "cells": [
  {
   "cell_type": "code",
   "execution_count": null,
   "metadata": {},
   "outputs": [],
   "source": [
    "\n"
   ]
  },
  {
   "cell_type": "code",
   "execution_count": 109,
   "metadata": {},
   "outputs": [],
   "source": [
    "nombre_leds=150\n",
    "couleurs={b\"bleu\":(0,0,100),b\"vert\":(0,0,100),b\"blanc\":(100,100,100),b\"effacer\":(0,0,0)}\n",
    "#Idents={b\"564990\":[{\"debut\":0,\"fin\":10,\"couleur\":b\"effacer\"}],b\"559849\":[{\"debut\":10,\"fin\":20,\"couleur\":b\"effacer\"}],b\"566970\":[{\"debut\":20,\"fin\":30,\"couleur\":b\"effacer\"}],\n",
    "#           b\"419743\":[{\"debut\":30,\"fin\":40,\"couleur\":b\"effacer\"}],b\"551776\":[{\"debut\":40,\"fin\":50,\"couleur\":b\"effacer\"}],b\"563582\":[{\"debut\":50,\"fin\":60,\"couleur\":b\"effacer\"}],\n",
    "#           b\"567368\":[{\"debut\":60,\"fin\":70,\"couleur\":b\"effacer\"}],b\"419607\":[{\"debut\":70,\"fin\":80,\"couleur\":b\"effacer\"}],b\"567367\":[{\"debut\":80,\"fin\":90,\"couleur\":b\"effacer\"}],\n",
    "#           b\"439893\":[{\"debut\":90,\"fin\":100,\"couleur\":b\"effacer\"}],b\"805788\":[{\"debut\":100,\"fin\":110,\"couleur\":b\"effacer\"}],b\"569558\":[{\"debut\":110,\"fin\":120,\"couleur\":b\"effacer\"}],\n",
    "#           b\"559992\":[{\"debut\":120,\"fin\":130,\"couleur\":b\"effacer\"}],b\"418991\":[{\"debut\":130,\"fin\":140,\"couleur\":b\"effacer\"}],b\"557031\":[{\"debut\":140,\"fin\":150,\"couleur\":b\"effacer\"}]}\n",
    "\n",
    "\n",
    "def adapter(zone):\n",
    "    pass\n",
    "def effacer(couleur):\n",
    "    pass\n",
    "def calculerEmplacement(recherche,couleur):\n",
    "    \n",
    "    print([c[\"couleur\"]==couleur for c in Idents[recherche]])\n",
    "    for emplacement in Idents[recherche]:\n",
    "        print(emplacement[\"couleur\"])\n",
    "        if couleur == emplacement[\"couleur\"]:\n",
    "                print(\"la couleur existe\")\n",
    "                break\n",
    "    \n",
    "        # la couleur est effacer\n",
    "        # la couleur existe\n",
    "        # la couleur est neuve\n",
    "        #la couleur est ajoutee\n",
    "         \n",
    "    debut=Idents[recherche][0][\"debut\"]\n",
    "    fin=Idents[recherche][0][\"fin\"]\n",
    "    \n",
    "    a_piloter = [i for i in range(debut,fin)]\n",
    "    return a_piloter\n",
    "    \n",
    "def piloter(recherche=b\"\",couleur=b\"blanc\"):\n",
    "    if recherche == b\"fin\":\n",
    "        effacer(couleur)\n",
    "        return\n",
    "    if ( recherche not in Idents):\n",
    "        return\n",
    "\n",
    "    for i in calculerEmplacement(recherche,couleur):\n",
    "        print(i,couleurs[couleur],end=\"|\")\n",
    "    print()\n",
    "def afficher():\n",
    "    table=[\".\"]*nombre_leds\n",
    "    \n",
    "    for k in range(10):\n",
    "        pass\n",
    "    print(table)\n",
    "        "
   ]
  },
  {
   "cell_type": "markdown",
   "metadata": {},
   "source": [
    "## la couleur est \"effacer\""
   ]
  },
  {
   "cell_type": "code",
   "execution_count": 110,
   "metadata": {},
   "outputs": [],
   "source": [
    "Idents={b\"564990\":[{\"debut\":0,\"fin\":10,\"couleur\":b\"effacer\"}]}\n"
   ]
  },
  {
   "cell_type": "code",
   "execution_count": 111,
   "metadata": {},
   "outputs": [
    {
     "name": "stdout",
     "output_type": "stream",
     "text": [
      "[False]\n",
      "b'effacer'\n"
     ]
    },
    {
     "data": {
      "text/plain": [
       "[0, 1, 2, 3, 4, 5, 6, 7, 8, 9]"
      ]
     },
     "execution_count": 111,
     "metadata": {},
     "output_type": "execute_result"
    }
   ],
   "source": [
    "calculerEmplacement(b\"564990\",b\"blanc\")\n"
   ]
  },
  {
   "cell_type": "code",
   "execution_count": 112,
   "metadata": {},
   "outputs": [
    {
     "name": "stdout",
     "output_type": "stream",
     "text": [
      "[False]\n",
      "b'effacer'\n",
      "0 (100, 100, 100)|1 (100, 100, 100)|2 (100, 100, 100)|3 (100, 100, 100)|4 (100, 100, 100)|5 (100, 100, 100)|6 (100, 100, 100)|7 (100, 100, 100)|8 (100, 100, 100)|9 (100, 100, 100)|\n"
     ]
    }
   ],
   "source": [
    "piloter(b\"564990\",b\"blanc\")"
   ]
  },
  {
   "cell_type": "markdown",
   "metadata": {},
   "source": [
    "## la couleur est \"ajoutée\""
   ]
  },
  {
   "cell_type": "code",
   "execution_count": 113,
   "metadata": {},
   "outputs": [],
   "source": [
    "Idents={b\"564990\":[{\"debut\":0,\"fin\":10,\"couleur\":b\"blanc\"}]}"
   ]
  },
  {
   "cell_type": "code",
   "execution_count": 114,
   "metadata": {},
   "outputs": [
    {
     "name": "stdout",
     "output_type": "stream",
     "text": [
      "[False]\n",
      "b'blanc'\n"
     ]
    },
    {
     "data": {
      "text/plain": [
       "[0, 1, 2, 3, 4, 5, 6, 7, 8, 9]"
      ]
     },
     "execution_count": 114,
     "metadata": {},
     "output_type": "execute_result"
    }
   ],
   "source": [
    "calculerEmplacement(b\"564990\",b\"vert\")\n"
   ]
  },
  {
   "cell_type": "markdown",
   "metadata": {},
   "source": [
    "## la couleur est \"existe\""
   ]
  },
  {
   "cell_type": "code",
   "execution_count": 115,
   "metadata": {},
   "outputs": [],
   "source": [
    "Idents={b\"564990\":[{\"debut\":0,\"fin\":10,\"couleur\":b\"blanc\"}]}"
   ]
  },
  {
   "cell_type": "code",
   "execution_count": 116,
   "metadata": {},
   "outputs": [
    {
     "name": "stdout",
     "output_type": "stream",
     "text": [
      "[True]\n",
      "b'blanc'\n",
      "la couleur existe\n"
     ]
    },
    {
     "data": {
      "text/plain": [
       "[0, 1, 2, 3, 4, 5, 6, 7, 8, 9]"
      ]
     },
     "execution_count": 116,
     "metadata": {},
     "output_type": "execute_result"
    }
   ],
   "source": [
    "calculerEmplacement(b\"564990\",b\"blanc\")\n"
   ]
  },
  {
   "cell_type": "code",
   "execution_count": 117,
   "metadata": {},
   "outputs": [
    {
     "name": "stdout",
     "output_type": "stream",
     "text": [
      "[True]\n",
      "b'blanc'\n",
      "la couleur existe\n",
      "0 (100, 100, 100)|1 (100, 100, 100)|2 (100, 100, 100)|3 (100, 100, 100)|4 (100, 100, 100)|5 (100, 100, 100)|6 (100, 100, 100)|7 (100, 100, 100)|8 (100, 100, 100)|9 (100, 100, 100)|\n",
      "[False]\n",
      "b'blanc'\n",
      "0 (0, 0, 100)|1 (0, 0, 100)|2 (0, 0, 100)|3 (0, 0, 100)|4 (0, 0, 100)|5 (0, 0, 100)|6 (0, 0, 100)|7 (0, 0, 100)|8 (0, 0, 100)|9 (0, 0, 100)|\n"
     ]
    }
   ],
   "source": [
    "piloter(b\"564990\",b\"blanc\")\n",
    "piloter(b\"564990\",b\"vert\")"
   ]
  },
  {
   "cell_type": "code",
   "execution_count": 42,
   "metadata": {},
   "outputs": [
    {
     "name": "stdout",
     "output_type": "stream",
     "text": [
      "['.', '.', '.', '.', '.', '.', '.', '.', '.', '.', '.', '.', '.', '.', '.', '.', '.', '.', '.', '.', '.', '.', '.', '.', '.', '.', '.', '.', '.', '.', '.', '.', '.', '.', '.', '.', '.', '.', '.', '.', '.', '.', '.', '.', '.', '.', '.', '.', '.', '.', '.', '.', '.', '.', '.', '.', '.', '.', '.', '.', '.', '.', '.', '.', '.', '.', '.', '.', '.', '.', '.', '.', '.', '.', '.', '.', '.', '.', '.', '.', '.', '.', '.', '.', '.', '.', '.', '.', '.', '.', '.', '.', '.', '.', '.', '.', '.', '.', '.', '.', '.', '.', '.', '.', '.', '.', '.', '.', '.', '.', '.', '.', '.', '.', '.', '.', '.', '.', '.', '.', '.', '.', '.', '.', '.', '.', '.', '.', '.', '.', '.', '.', '.', '.', '.', '.', '.', '.', '.', '.', '.', '.', '.', '.', '.', '.', '.', '.', '.', '.']\n"
     ]
    }
   ],
   "source": [
    "afficher()"
   ]
  },
  {
   "cell_type": "code",
   "execution_count": null,
   "metadata": {},
   "outputs": [],
   "source": []
  }
 ],
 "metadata": {
  "kernelspec": {
   "display_name": "Python 3",
   "language": "python",
   "name": "python3"
  },
  "language_info": {
   "codemirror_mode": {
    "name": "ipython",
    "version": 3
   },
   "file_extension": ".py",
   "mimetype": "text/x-python",
   "name": "python",
   "nbconvert_exporter": "python",
   "pygments_lexer": "ipython3",
   "version": "3.7.4"
  }
 },
 "nbformat": 4,
 "nbformat_minor": 4
}
