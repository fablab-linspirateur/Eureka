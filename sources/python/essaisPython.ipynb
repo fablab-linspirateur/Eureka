{
 "cells": [
  {
   "cell_type": "code",
   "execution_count": 418,
   "metadata": {},
   "outputs": [],
   "source": [
    "Idents={\"123\":{0x000000:[0,9]},\"456\":{0x000000:[10,19]}}"
   ]
  },
  {
   "cell_type": "code",
   "execution_count": 435,
   "metadata": {},
   "outputs": [],
   "source": [
    "ident = Idents[\"456\"] "
   ]
  },
  {
   "cell_type": "code",
   "execution_count": 436,
   "metadata": {},
   "outputs": [
    {
     "data": {
      "text/plain": [
       "{0: [10, 19]}"
      ]
     },
     "execution_count": 436,
     "metadata": {},
     "output_type": "execute_result"
    }
   ],
   "source": [
    "ident"
   ]
  },
  {
   "cell_type": "code",
   "execution_count": 437,
   "metadata": {},
   "outputs": [],
   "source": [
    "taille = len(ident.keys())"
   ]
  },
  {
   "cell_type": "code",
   "execution_count": 438,
   "metadata": {},
   "outputs": [],
   "source": [
    "def mettre_a_jour(ident):\n",
    "    ### mise à jour de la table des couleurs\n",
    "    depart = ident[0x000000][0]\n",
    "    fin = ident[0x000000][1]\n",
    "    nbcouleur = len(ident.keys())-1\n",
    "    try:\n",
    "        pas = int((fin-depart)/nbcouleur)\n",
    "    except:\n",
    "        pas = int(fin-depart)\n",
    "    \n",
    "    prev = depart\n",
    "    for i,c in enumerate(ident.keys()):\n",
    "        if c == 0:\n",
    "            #ne pas effacer la couleur 0\n",
    "            continue\n",
    "        ident[c]=[prev,(i*pas)+depart]\n",
    "        prev = ident[c][1]+1\n",
    "    ident[c][1] = fin \n",
    "    #print(ident,pas)    "
   ]
  },
  {
   "cell_type": "code",
   "execution_count": 439,
   "metadata": {},
   "outputs": [],
   "source": [
    "\n",
    "def ajouter(ident,couleur):\n",
    "    ### Ajout d'une couleur à une position\n",
    "    ident[couleur]=[]\n",
    "    print(ident)\n",
    "    mettre_a_jour(ident)"
   ]
  },
  {
   "cell_type": "code",
   "execution_count": 440,
   "metadata": {},
   "outputs": [
    {
     "name": "stdout",
     "output_type": "stream",
     "text": [
      "{0: [10, 19], 6553600: []}\n",
      "{0: [10, 19], 6553600: [10, 19]} 9\n"
     ]
    }
   ],
   "source": [
    "ajouter(ident,0x00640000)"
   ]
  },
  {
   "cell_type": "code",
   "execution_count": 441,
   "metadata": {},
   "outputs": [
    {
     "name": "stdout",
     "output_type": "stream",
     "text": [
      "{0: [10, 19], 6553600: [10, 19], 25600: []}\n",
      "{0: [10, 19], 6553600: [10, 14], 25600: [15, 19]} 4\n"
     ]
    }
   ],
   "source": [
    "ajouter(ident,0x006400)"
   ]
  },
  {
   "cell_type": "code",
   "execution_count": 442,
   "metadata": {},
   "outputs": [
    {
     "name": "stdout",
     "output_type": "stream",
     "text": [
      "{0: [10, 19], 6553600: [10, 14], 25600: [15, 19], 100: []}\n",
      "{0: [10, 19], 6553600: [10, 13], 25600: [14, 16], 100: [17, 19]} 3\n"
     ]
    }
   ],
   "source": [
    "ajouter(ident,0x000064)"
   ]
  },
  {
   "cell_type": "code",
   "execution_count": 443,
   "metadata": {},
   "outputs": [
    {
     "data": {
      "text/plain": [
       "{0: [10, 19], 6553600: [10, 13], 25600: [14, 16], 100: [17, 19]}"
      ]
     },
     "execution_count": 443,
     "metadata": {},
     "output_type": "execute_result"
    }
   ],
   "source": [
    "ident"
   ]
  },
  {
   "cell_type": "code",
   "execution_count": 444,
   "metadata": {},
   "outputs": [],
   "source": [
    "def enlever(ident,couleur):\n",
    "    ### retire une couleur d'une position\n",
    "    try:\n",
    "        del(ident[couleur])\n",
    "    except:\n",
    "        return\n",
    "    mettre_a_jour(ident)"
   ]
  },
  {
   "cell_type": "code",
   "execution_count": 445,
   "metadata": {},
   "outputs": [
    {
     "name": "stdout",
     "output_type": "stream",
     "text": [
      "{0: [10, 19], 6553600: [10, 14], 25600: [15, 19]} 4\n"
     ]
    }
   ],
   "source": [
    "enlever(ident,0x000064)"
   ]
  },
  {
   "cell_type": "code",
   "execution_count": 446,
   "metadata": {},
   "outputs": [
    {
     "data": {
      "text/plain": [
       "{0: [10, 19], 6553600: [10, 14], 25600: [15, 19]}"
      ]
     },
     "execution_count": 446,
     "metadata": {},
     "output_type": "execute_result"
    }
   ],
   "source": [
    "ident"
   ]
  },
  {
   "cell_type": "code",
   "execution_count": 447,
   "metadata": {},
   "outputs": [
    {
     "name": "stdout",
     "output_type": "stream",
     "text": [
      "{0: [10, 19], 25600: [10, 19]} 9\n"
     ]
    }
   ],
   "source": [
    "enlever(ident,0x640000)"
   ]
  },
  {
   "cell_type": "code",
   "execution_count": 448,
   "metadata": {},
   "outputs": [
    {
     "name": "stdout",
     "output_type": "stream",
     "text": [
      "{0: [10, 19]} 9\n"
     ]
    }
   ],
   "source": [
    "enlever(ident,0x006400)"
   ]
  },
  {
   "cell_type": "code",
   "execution_count": 449,
   "metadata": {},
   "outputs": [
    {
     "data": {
      "text/plain": [
       "{0: [10, 19]}"
      ]
     },
     "execution_count": 449,
     "metadata": {},
     "output_type": "execute_result"
    }
   ],
   "source": [
    "ident"
   ]
  },
  {
   "cell_type": "code",
   "execution_count": 434,
   "metadata": {},
   "outputs": [],
   "source": [
    "def toColor(n24):\n",
    "    #conversion en \"couleur\" neopixel\n",
    "    r=n24>>16;\n",
    "    v=(0x00ff00 & n24)>>8\n",
    "    b=(0x0000ff & n24)\n",
    "    return (r,v,b)"
   ]
  },
  {
   "cell_type": "code",
   "execution_count": 450,
   "metadata": {},
   "outputs": [
    {
     "data": {
      "text/plain": [
       "((0, 100, 0), (100, 0, 0), (0, 0, 0))"
      ]
     },
     "execution_count": 450,
     "metadata": {},
     "output_type": "execute_result"
    }
   ],
   "source": [
    "toColor(0x006400),toColor(0x640000),toColor(0)"
   ]
  },
  {
   "cell_type": "code",
   "execution_count": null,
   "metadata": {},
   "outputs": [],
   "source": []
  }
 ],
 "metadata": {
  "kernelspec": {
   "display_name": "Python 3",
   "language": "python",
   "name": "python3"
  },
  "language_info": {
   "codemirror_mode": {
    "name": "ipython",
    "version": 3
   },
   "file_extension": ".py",
   "mimetype": "text/x-python",
   "name": "python",
   "nbconvert_exporter": "python",
   "pygments_lexer": "ipython3",
   "version": "3.7.4"
  }
 },
 "nbformat": 4,
 "nbformat_minor": 4
}
