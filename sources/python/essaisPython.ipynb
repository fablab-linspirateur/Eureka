{
 "cells": [
  {
   "cell_type": "code",
   "execution_count": 3,
   "metadata": {},
   "outputs": [],
   "source": [
    "Idents={\"123\":{0x000000:[0,10]}}"
   ]
  },
  {
   "cell_type": "code",
   "execution_count": 4,
   "metadata": {},
   "outputs": [],
   "source": [
    "ident = Idents[\"123\"] "
   ]
  },
  {
   "cell_type": "code",
   "execution_count": 5,
   "metadata": {},
   "outputs": [
    {
     "data": {
      "text/plain": [
       "{0: [0, 10]}"
      ]
     },
     "execution_count": 5,
     "metadata": {},
     "output_type": "execute_result"
    }
   ],
   "source": [
    "ident"
   ]
  },
  {
   "cell_type": "code",
   "execution_count": 6,
   "metadata": {},
   "outputs": [],
   "source": [
    "taille = len(ident.keys())"
   ]
  },
  {
   "cell_type": "code",
   "execution_count": 7,
   "metadata": {},
   "outputs": [],
   "source": [
    "\n",
    "def ajouter(couleur):\n",
    "    ### Ajout d'une couleur à une position\n",
    "    pas = int(ident[0x000000][1]/len(ident.keys()))\n",
    "    ident[couleur]=[]\n",
    "    prev = ident[0x000000][0]\n",
    "    for i,c in enumerate(ident.keys()):\n",
    "        if i == 0:\n",
    "            continue\n",
    "        ident[c]=[prev,i*pas]\n",
    "        prev = ident[c][1]\n",
    "    print(ident,pas)"
   ]
  },
  {
   "cell_type": "code",
   "execution_count": 8,
   "metadata": {},
   "outputs": [
    {
     "name": "stdout",
     "output_type": "stream",
     "text": [
      "{0: [0, 10], 6553600: [0, 10]} 10\n"
     ]
    }
   ],
   "source": [
    "ajouter(0x640000)"
   ]
  },
  {
   "cell_type": "code",
   "execution_count": 9,
   "metadata": {},
   "outputs": [
    {
     "name": "stdout",
     "output_type": "stream",
     "text": [
      "{0: [0, 10], 6553600: [0, 5], 25600: [5, 10]} 5\n"
     ]
    }
   ],
   "source": [
    "ajouter(0x006400)"
   ]
  },
  {
   "cell_type": "code",
   "execution_count": 10,
   "metadata": {},
   "outputs": [
    {
     "name": "stdout",
     "output_type": "stream",
     "text": [
      "{0: [0, 10], 6553600: [0, 3], 25600: [3, 6], 100: [6, 9]} 3\n"
     ]
    }
   ],
   "source": [
    "ajouter(0x000064)"
   ]
  },
  {
   "cell_type": "code",
   "execution_count": 11,
   "metadata": {},
   "outputs": [
    {
     "data": {
      "text/plain": [
       "{0: [0, 10], 6553600: [0, 3], 25600: [3, 6], 100: [6, 9]}"
      ]
     },
     "execution_count": 11,
     "metadata": {},
     "output_type": "execute_result"
    }
   ],
   "source": [
    "ident"
   ]
  },
  {
   "cell_type": "code",
   "execution_count": 12,
   "metadata": {},
   "outputs": [],
   "source": [
    "def enlever(couleur):\n",
    "    ### retire une couleur d'une position\n",
    "    try:\n",
    "        del(ident[couleur])\n",
    "    except:\n",
    "        return\n",
    "    pas = int(ident[0x000000][1] / (len(ident.keys())-1))\n",
    "    print(pas)\n",
    "    prev = ident[0x000000][0]\n",
    "    for i,c in enumerate(ident.keys()):\n",
    "        if i == 0:\n",
    "            continue\n",
    "        ident[c]=[prev,i*pas]\n",
    "        prev = ident[c][1]\n"
   ]
  },
  {
   "cell_type": "code",
   "execution_count": 13,
   "metadata": {},
   "outputs": [
    {
     "name": "stdout",
     "output_type": "stream",
     "text": [
      "5\n"
     ]
    }
   ],
   "source": [
    "enlever(0x000064)"
   ]
  },
  {
   "cell_type": "code",
   "execution_count": 14,
   "metadata": {},
   "outputs": [
    {
     "data": {
      "text/plain": [
       "{0: [0, 10], 6553600: [0, 5], 25600: [5, 10]}"
      ]
     },
     "execution_count": 14,
     "metadata": {},
     "output_type": "execute_result"
    }
   ],
   "source": [
    "ident"
   ]
  },
  {
   "cell_type": "code",
   "execution_count": 15,
   "metadata": {},
   "outputs": [
    {
     "name": "stdout",
     "output_type": "stream",
     "text": [
      "10\n"
     ]
    }
   ],
   "source": [
    "enlever(0x640000)"
   ]
  },
  {
   "cell_type": "code",
   "execution_count": 16,
   "metadata": {},
   "outputs": [
    {
     "data": {
      "text/plain": [
       "{0: [0, 10], 25600: [0, 10]}"
      ]
     },
     "execution_count": 16,
     "metadata": {},
     "output_type": "execute_result"
    }
   ],
   "source": [
    "ident"
   ]
  },
  {
   "cell_type": "code",
   "execution_count": 17,
   "metadata": {},
   "outputs": [],
   "source": [
    "def toColor(n24):\n",
    "    #conversion en \"couleur\" neopixel\n",
    "    r=n24>>16;\n",
    "    v=(0x00ff00 & n24)>>8\n",
    "    b=(0x0000ff & n24)\n",
    "    return (r,v,b)"
   ]
  },
  {
   "cell_type": "code",
   "execution_count": 18,
   "metadata": {},
   "outputs": [
    {
     "data": {
      "text/plain": [
       "(0, 100, 0)"
      ]
     },
     "execution_count": 18,
     "metadata": {},
     "output_type": "execute_result"
    }
   ],
   "source": [
    "toColor(0x006400)"
   ]
  },
  {
   "cell_type": "code",
   "execution_count": null,
   "metadata": {},
   "outputs": [],
   "source": []
  }
 ],
 "metadata": {
  "kernelspec": {
   "display_name": "Python 3",
   "language": "python",
   "name": "python3"
  },
  "language_info": {
   "codemirror_mode": {
    "name": "ipython",
    "version": 3
   },
   "file_extension": ".py",
   "mimetype": "text/x-python",
   "name": "python",
   "nbconvert_exporter": "python",
   "pygments_lexer": "ipython3",
   "version": "3.7.6"
  }
 },
 "nbformat": 4,
 "nbformat_minor": 4
}
